{
  "nbformat": 4,
  "nbformat_minor": 0,
  "metadata": {
    "colab": {
      "provenance": []
    },
    "kernelspec": {
      "name": "python3",
      "display_name": "Python 3"
    },
    "language_info": {
      "name": "python"
    }
  },
  "cells": [
    {
      "cell_type": "markdown",
      "source": [],
      "metadata": {
        "id": "60oNBwYmhWZd"
      }
    },
    {
      "cell_type": "markdown",
      "source": [
        "**Q1. What are data structures, and why are they important?**\n",
        "\n",
        "Ans. Data structures are ways of organising and storing data , so that user can easily access, manipulate and modify the data.\n",
        "\n",
        "Importance:\n",
        "    \n",
        "  \n",
        "\n",
        "*   They improve efficiency of operators.\n",
        "*   Helps in managing large amounts of data.\n",
        "\n",
        "**Q2. Explain the difference between mutable and immutable data types with examples?**\n",
        "\n",
        "Ans. Mutable data types- can be changed after creation, one can access, manipulate and modify the data.\n",
        "   \n",
        "   e.g - list= [1,2,3] list[0] = 10 (this will work)\n",
        "   \n",
        "   Immutable data types- can't be changed after creation.\n",
        "\n",
        "   e.g- str= \"pravesh\"    srt[2]= 'a' ..... (it will throws an error.)\n",
        "\n",
        "     \n",
        "\n",
        "\n",
        "**Q3.What are the main differences between lists and tuples in Python?**\n",
        "\n",
        "Ans. List - lists are typically can be modified after creation and written with\n",
        "[].\n",
        "\n",
        "   Tuples - tuples are immutable and faster and gives protection to the data  and  written with ().\n",
        "\n",
        "\n",
        "**Q4.Describe how dictionaries store data?**\n",
        "\n",
        "Ans.  They use key- value pairs , data store in a hash table, allows fast access.\n",
        "\n",
        "\n",
        "**Q5.Why might you use a set instead of a list in Python?**\n",
        "\n",
        "Ans. set as we know is mutable so do the list but the main reason of using set instead of list is set don't allow duplicate values and also removes duplicates automatically.\n",
        "\n",
        "\n",
        "**Q6.What is a string in Python, and how is it different from a list?**\n",
        "\n",
        "Ans. A string in python is a sequence of charaters and immutable in nature but a list can store any type of data and mutable.\n",
        "\n",
        "   s = \"pravesh\" ( string)\n",
        "\n",
        "   lst = [\"p\",\"r\",\"a\",\"v\",\"e\",\"s\",\"h\", 1,2,5.1, True] (list)\n",
        "\n",
        "\n",
        "**Q7.How do tuples ensure data integrity in Python?**\n",
        "\n",
        "Ans. Tuples are immutable, once created can,t be changed, ensuring data remains secure.\n",
        "\n",
        "\n",
        "**Q8.What is a hash table, and how does it relate to dictionaries in Python?**\n",
        "\n",
        "Ans.  A hash table maps keys to values using a hash function. Python dictionaries are implemented using hash table, which allow constant time lookup for most operations.\n",
        "\n",
        "\n",
        "**Q9.Can lists contain different data types in Python?**\n",
        "\n",
        "\n",
        "Ans. yes, lists can contains different data types in python.\n",
        "\n",
        "e.g - lst = [1, 2, 3.1, \"pravesh\", True]\n",
        "\n",
        "\n",
        "**Q10. Explain why strings are immutable in Python?**\n",
        "\n",
        "Ans.  for security ( string data can't be modified) and for memory efficiency.\n",
        "\n",
        "\n",
        "**Q11.What advantages do dictionaries offer over lists for certain tasks?**\n",
        "\n",
        "Ans : -\n",
        "\n",
        "*   Fast lookup using keys instead of searching through indices.\n",
        "*   Better for mapping relationships.\n",
        "\n",
        "\n",
        "**Q12.Describe a scenario where using a tuple would be preferable over a list?**\n",
        "\n",
        "Ans. While storing fixed data that should not be changed.\n",
        "\n",
        "\n",
        "**Q13. How do sets handle duplicate values in Python?**\n",
        "\n",
        "Ans. Sets automatically discard duplicate values.\n",
        "\n",
        "e.g  s = {1,1,2,2,3,3,4,4}    while running this code it will give {1,2,3,4}\n",
        "\n",
        "\n",
        "**Q14. How does the “in” keyword work differently for lists and dictionaries?**\n",
        "\n",
        "Ans.  In LIST it checks if element exists. But in case of DICT it checks if keys exists or not.\n",
        "\n",
        " e.g.  3 in [1,2,3]  ( True)\n",
        "\n",
        "   \"name\" in { \"name\": \"pravesh\"} (True)\n",
        "\n",
        "\n",
        "**Q15. Can you modify the elements of a tuple? Explain why or why not?**\n",
        "\n",
        "Ans. No, we can't modify elements of a tuple because tuples are immutable and can't be changed after creation.\n",
        "\n",
        "**Q16. What is a nested dictionary, and give an example of its use case?**\n",
        "\n",
        "Ans. A dictionary inside a dictionary is kmown as nested dictionary.\n",
        "\n",
        "e.g.  d1 = {\"name\": \"pravesh\", \"phn no.\"{\"ph1\":\"1234\", \"ph2\":\"5678\"}}\n",
        "\n",
        "\n",
        "**Q17. Describe the time complexity of accessing elements in a dictionary?**\n",
        "\n",
        "Ans. Average case :O(1) (constant time)\n",
        "\n",
        "  Worst case : O(n) (due to hash collisions)\n",
        "\n",
        "**Q18. In what situations are lists preferred over dictionaries?**\n",
        "\n",
        "Ans.\n",
        "\n",
        "*   when order matters\n",
        "*   when only sequential access is needed.\n",
        "*   when there is no need of key value pairs.  \n",
        "\n",
        "**Q19. Why are dictionaries considered unordered, and how does that affect data retrieval?**\n",
        "\n",
        "Ans. Because they are based on hashing.\n",
        "\n",
        "\n",
        "**Q20. Explain the difference between a list and a dictionary in terms of data retrieval?**\n",
        "\n",
        "Ans. LIST - accessed by index ( l = [23,45,56]  l[2] gives \"56\"\n",
        "     DICTIONARY - accessed by keys (d=  {\"name\":\"pravesh\",\"course\":\"data analstics\"}   ,  d[\"course\"] gives out \"data analytics.\n"
      ],
      "metadata": {
        "id": "pl6y0btNhX2K"
      }
    },
    {
      "cell_type": "markdown",
      "source": [
        "###                                          **PRACTICAL QUESTIONS**"
      ],
      "metadata": {
        "id": "vFCG7jsW0UVG"
      }
    },
    {
      "cell_type": "code",
      "source": [
        "# 1 create a string with your name and print it\n",
        "s = \"Pravesh\"\n",
        "print(s)"
      ],
      "metadata": {
        "colab": {
          "base_uri": "https://localhost:8080/"
        },
        "id": "lmT5eeLt0ul4",
        "outputId": "35412a0e-e134-40da-a797-99c720ed0ac5"
      },
      "execution_count": 1,
      "outputs": [
        {
          "output_type": "stream",
          "name": "stdout",
          "text": [
            "Pravesh\n"
          ]
        }
      ]
    },
    {
      "cell_type": "code",
      "source": [
        "#2 length of the string \"Hello World\"\n",
        "print(len(\"Hello World\"))\n"
      ],
      "metadata": {
        "colab": {
          "base_uri": "https://localhost:8080/"
        },
        "id": "MWWV3LaM7Yak",
        "outputId": "a281e45a-4819-4428-f42c-6971c376706c"
      },
      "execution_count": 64,
      "outputs": [
        {
          "output_type": "stream",
          "name": "stdout",
          "text": [
            "11\n"
          ]
        }
      ]
    },
    {
      "cell_type": "code",
      "source": [
        "#3 slice the first 3 characters from the string \"Python Programming\"\n",
        "s = \"Python Programming\"\n",
        "s[:3]"
      ],
      "metadata": {
        "colab": {
          "base_uri": "https://localhost:8080/",
          "height": 35
        },
        "id": "Ru8c0rku8CiN",
        "outputId": "126f60db-cb72-47f2-fb22-055fc766b564"
      },
      "execution_count": 3,
      "outputs": [
        {
          "output_type": "execute_result",
          "data": {
            "text/plain": [
              "'Pyt'"
            ],
            "application/vnd.google.colaboratory.intrinsic+json": {
              "type": "string"
            }
          },
          "metadata": {},
          "execution_count": 3
        }
      ]
    },
    {
      "cell_type": "code",
      "source": [
        "#4 convert the string \"hello\" to uppercase\n",
        "print(\"hello\".upper())"
      ],
      "metadata": {
        "colab": {
          "base_uri": "https://localhost:8080/"
        },
        "id": "OblUriux8dnk",
        "outputId": "2aa97db4-352e-4cc1-812b-41e1cf8dc28a"
      },
      "execution_count": 65,
      "outputs": [
        {
          "output_type": "stream",
          "name": "stdout",
          "text": [
            "HELLO\n"
          ]
        }
      ]
    },
    {
      "cell_type": "code",
      "source": [
        "#5 replace the word 'apple' with 'orange' in the string 'i like apple'\n",
        "a = \"i like apple\"\n",
        "a.replace(\"apple\",\"orange\")"
      ],
      "metadata": {
        "colab": {
          "base_uri": "https://localhost:8080/",
          "height": 35
        },
        "id": "yYcqE74C8z0l",
        "outputId": "6353ac71-6a38-4db3-8ae0-eb22dc73722f"
      },
      "execution_count": 67,
      "outputs": [
        {
          "output_type": "execute_result",
          "data": {
            "text/plain": [
              "'i like orange'"
            ],
            "application/vnd.google.colaboratory.intrinsic+json": {
              "type": "string"
            }
          },
          "metadata": {},
          "execution_count": 67
        }
      ]
    },
    {
      "cell_type": "code",
      "source": [
        "#6 create a list with numbers 1 to 5 and print it\n",
        "l1 = [1,2,3,4,5]\n",
        "print(l1)"
      ],
      "metadata": {
        "colab": {
          "base_uri": "https://localhost:8080/"
        },
        "id": "7LHLoJlH9Uw2",
        "outputId": "66d2b038-c4e1-4015-dda5-6d61a09974e2"
      },
      "execution_count": 7,
      "outputs": [
        {
          "output_type": "stream",
          "name": "stdout",
          "text": [
            "[1, 2, 3, 4, 5]\n"
          ]
        }
      ]
    },
    {
      "cell_type": "code",
      "source": [
        "#7 append the number 10 to the list [1,2,3,4]\n",
        "a= [1,2,3,4]\n",
        "a.append(10)\n",
        "print(a)"
      ],
      "metadata": {
        "colab": {
          "base_uri": "https://localhost:8080/"
        },
        "id": "R0mcU97O9nXl",
        "outputId": "430ce053-1fd0-49bd-f4f1-e506c25e85b4"
      },
      "execution_count": 10,
      "outputs": [
        {
          "output_type": "stream",
          "name": "stdout",
          "text": [
            "[1, 2, 3, 4, 10]\n"
          ]
        }
      ]
    },
    {
      "cell_type": "code",
      "source": [
        "#8 remove the number 3 from the list [1,2,3,4,5]\n",
        "a = [1,2,3,4,5]\n",
        "a.remove(3)\n",
        "print(a)"
      ],
      "metadata": {
        "colab": {
          "base_uri": "https://localhost:8080/"
        },
        "id": "LPqDay_O97e9",
        "outputId": "878c0302-9632-4c14-f8b3-cbca9ff6acd4"
      },
      "execution_count": 12,
      "outputs": [
        {
          "output_type": "stream",
          "name": "stdout",
          "text": [
            "[1, 2, 4, 5]\n"
          ]
        }
      ]
    },
    {
      "cell_type": "code",
      "source": [
        "#9 access the second element in the list [a,b,c,d]\n",
        "a = ['a','b','c','d']\n",
        "a[1]"
      ],
      "metadata": {
        "colab": {
          "base_uri": "https://localhost:8080/",
          "height": 35
        },
        "id": "CXVqlWHs-nrb",
        "outputId": "775e40ef-aabb-46c7-e0b1-a5aca5a84549"
      },
      "execution_count": 13,
      "outputs": [
        {
          "output_type": "execute_result",
          "data": {
            "text/plain": [
              "'b'"
            ],
            "application/vnd.google.colaboratory.intrinsic+json": {
              "type": "string"
            }
          },
          "metadata": {},
          "execution_count": 13
        }
      ]
    },
    {
      "cell_type": "code",
      "source": [
        "#10 reverse the list [10,20,30,40,50]\n",
        "a = [10,20,30,40,50]\n",
        "a.reverse() # also we can use print(a[::-1])\n",
        "print(a)"
      ],
      "metadata": {
        "colab": {
          "base_uri": "https://localhost:8080/"
        },
        "id": "AwHX1eZm_F1W",
        "outputId": "4207ae19-e34c-446b-f677-523d357acc9c"
      },
      "execution_count": 69,
      "outputs": [
        {
          "output_type": "stream",
          "name": "stdout",
          "text": [
            "[50, 40, 30, 20, 10]\n"
          ]
        }
      ]
    },
    {
      "cell_type": "code",
      "source": [
        "#11 create a tuple with the elements 100,200,300 and print it\n",
        "t = (100,200,300)\n",
        "print(t)"
      ],
      "metadata": {
        "colab": {
          "base_uri": "https://localhost:8080/"
        },
        "id": "vCZqofCd_iQ9",
        "outputId": "55731981-d76b-456c-dbd0-b3ebdab7a287"
      },
      "execution_count": 17,
      "outputs": [
        {
          "output_type": "stream",
          "name": "stdout",
          "text": [
            "(100, 200, 300)\n"
          ]
        }
      ]
    },
    {
      "cell_type": "code",
      "source": [
        "#12 access the second to last element of the tuple ('red','green','blue','yellow')\n",
        "a = ('red','green','blue','yellow')\n",
        "a[-2]"
      ],
      "metadata": {
        "colab": {
          "base_uri": "https://localhost:8080/",
          "height": 35
        },
        "id": "Kjuoh-oP_6Y1",
        "outputId": "e5d8873e-9d90-4bba-c617-3319f7e47302"
      },
      "execution_count": 18,
      "outputs": [
        {
          "output_type": "execute_result",
          "data": {
            "text/plain": [
              "'blue'"
            ],
            "application/vnd.google.colaboratory.intrinsic+json": {
              "type": "string"
            }
          },
          "metadata": {},
          "execution_count": 18
        }
      ]
    },
    {
      "cell_type": "code",
      "source": [
        "#13 find the minimum number in the tuple (10,20,5,15)\n",
        "a = (10,20,5,15)\n",
        "print(min(a))"
      ],
      "metadata": {
        "colab": {
          "base_uri": "https://localhost:8080/"
        },
        "id": "F7i3cmnSAgs7",
        "outputId": "f128ae8c-3be1-4c28-f343-90b35e9484dd"
      },
      "execution_count": 70,
      "outputs": [
        {
          "output_type": "stream",
          "name": "stdout",
          "text": [
            "5\n"
          ]
        }
      ]
    },
    {
      "cell_type": "code",
      "source": [
        "#14 find the index in the element \"cat\" in the tuple ('dog','cat','rabbit')\n",
        "t = ('dog','cat','rabbit')\n",
        "print(t.index('cat'))"
      ],
      "metadata": {
        "colab": {
          "base_uri": "https://localhost:8080/"
        },
        "id": "VrDVEAaTBGFs",
        "outputId": "4444924e-3547-4333-cb6d-8af531419a20"
      },
      "execution_count": 71,
      "outputs": [
        {
          "output_type": "stream",
          "name": "stdout",
          "text": [
            "1\n"
          ]
        }
      ]
    },
    {
      "cell_type": "code",
      "source": [
        "#15 create a tuple containing three different fruits and check if 'kiwi' is in it\n",
        "a = ['apple','banana','kiwi']\n",
        "print('kiwi' in a)"
      ],
      "metadata": {
        "colab": {
          "base_uri": "https://localhost:8080/"
        },
        "id": "2XVXP9WjBlh7",
        "outputId": "1cf1ffe0-e5c8-4bcb-80df-b39bd3e7bdab"
      },
      "execution_count": 72,
      "outputs": [
        {
          "output_type": "stream",
          "name": "stdout",
          "text": [
            "True\n"
          ]
        }
      ]
    },
    {
      "cell_type": "code",
      "source": [
        "#16 create a set with elements 'a', 'b', 'c' and print it\n",
        "s = {'a', 'b', 'c'}\n",
        "print(s)"
      ],
      "metadata": {
        "colab": {
          "base_uri": "https://localhost:8080/"
        },
        "id": "c5UaY6L5CQh-",
        "outputId": "3e9d80b5-1d79-4cf1-e4ef-a6eb1e8357cf"
      },
      "execution_count": 26,
      "outputs": [
        {
          "output_type": "stream",
          "name": "stdout",
          "text": [
            "{'c', 'a', 'b'}\n"
          ]
        }
      ]
    },
    {
      "cell_type": "code",
      "source": [
        "#17 clear all elements from set {1,2,3,4,5}\n",
        "s = {1,2,3,4,5}\n",
        "s.clear()\n",
        "print(s)"
      ],
      "metadata": {
        "colab": {
          "base_uri": "https://localhost:8080/"
        },
        "id": "LoQjPkNCCyKR",
        "outputId": "87e73420-7497-4255-cc9e-afb88adfccd4"
      },
      "execution_count": 28,
      "outputs": [
        {
          "output_type": "stream",
          "name": "stdout",
          "text": [
            "set()\n"
          ]
        }
      ]
    },
    {
      "cell_type": "code",
      "source": [
        "#18 remove the element 4 from set {1,2,3,4}\n",
        "s = {1,2,3,4}\n",
        "s.remove(4)\n",
        "print(s)"
      ],
      "metadata": {
        "colab": {
          "base_uri": "https://localhost:8080/"
        },
        "id": "4mHpMhouDFg7",
        "outputId": "394dd243-23cd-41f2-bb2e-d5732295e59b"
      },
      "execution_count": 31,
      "outputs": [
        {
          "output_type": "stream",
          "name": "stdout",
          "text": [
            "{1, 2, 3}\n"
          ]
        }
      ]
    },
    {
      "cell_type": "code",
      "source": [
        "#19 find the union of two sets {1,2,3} and {3,4,5}\n",
        "a = {1,2,3}\n",
        "b = {3,4,5}\n",
        "print(a | b)        # \"|\" is a symbol for union"
      ],
      "metadata": {
        "colab": {
          "base_uri": "https://localhost:8080/"
        },
        "id": "rIOsWxDmDhug",
        "outputId": "ad21fe9d-da03-463b-8b64-e65f6efa9cb0"
      },
      "execution_count": 73,
      "outputs": [
        {
          "output_type": "stream",
          "name": "stdout",
          "text": [
            "{1, 2, 3, 4, 5}\n"
          ]
        }
      ]
    },
    {
      "cell_type": "code",
      "source": [
        "#20 find the intersection of two sets {1,2,3} and {2,3,4}\n",
        "a = {1,2,3}\n",
        "b = {2,3,4}\n",
        "print(a & b)   # & symbol used for intersection\n"
      ],
      "metadata": {
        "colab": {
          "base_uri": "https://localhost:8080/"
        },
        "id": "6NxMa29EEG-a",
        "outputId": "91848f3d-42c5-4e87-e3eb-e76446ed8564"
      },
      "execution_count": 74,
      "outputs": [
        {
          "output_type": "stream",
          "name": "stdout",
          "text": [
            "{2, 3}\n"
          ]
        }
      ]
    },
    {
      "cell_type": "code",
      "source": [
        "#21 create a dictionary with the keys \"name\", \"age\" and \"city\" and print it\n",
        "d = {\"name\": \"pravesh\", \"age\":24 , \"city\":\"sonipat\"}\n",
        "print(d)"
      ],
      "metadata": {
        "colab": {
          "base_uri": "https://localhost:8080/"
        },
        "id": "G1XqcRfSEnVo",
        "outputId": "0b3ed15a-b1a0-44ee-c874-c3cc92480891"
      },
      "execution_count": 75,
      "outputs": [
        {
          "output_type": "stream",
          "name": "stdout",
          "text": [
            "{'name': 'pravesh', 'age': 24, 'city': 'sonipat'}\n"
          ]
        }
      ]
    },
    {
      "cell_type": "code",
      "source": [
        "#22 add a new key-value pair \"country\":\"USA\" to the dictionary {'name':'john','age':'25'}\n",
        "d = {'name':'john','age':'25'}\n",
        "d[\"country\"] = \"USA\"\n",
        "d"
      ],
      "metadata": {
        "colab": {
          "base_uri": "https://localhost:8080/"
        },
        "id": "Irb_XHEkFSF4",
        "outputId": "cccd76ee-75d8-4263-ee37-11d4a2304107"
      },
      "execution_count": 47,
      "outputs": [
        {
          "output_type": "execute_result",
          "data": {
            "text/plain": [
              "{'name': 'john', 'age': '25', 'country': 'USA'}"
            ]
          },
          "metadata": {},
          "execution_count": 47
        }
      ]
    },
    {
      "cell_type": "code",
      "source": [
        "#23 access the value associated with the keys \"name\" in the dictionary {'name':'alice','age':'30'}\n",
        "d = {'name':'alice','age':30}\n",
        "print(d[\"name\"])"
      ],
      "metadata": {
        "colab": {
          "base_uri": "https://localhost:8080/"
        },
        "id": "KqO0YG0GGo9e",
        "outputId": "f256c7a7-9f6f-452b-a36f-41eb61f0a346"
      },
      "execution_count": 77,
      "outputs": [
        {
          "output_type": "stream",
          "name": "stdout",
          "text": [
            "alice\n"
          ]
        }
      ]
    },
    {
      "cell_type": "code",
      "source": [
        "#24 remove the key \"age\" from dictionary {'name':'Bob','age':'22','city':'New York'}\n",
        "d = {'name':'Bob','age':22,'city':'New York'}\n",
        "d.pop('age')\n",
        "print(d)"
      ],
      "metadata": {
        "colab": {
          "base_uri": "https://localhost:8080/"
        },
        "id": "MVdynu7AHGiG",
        "outputId": "79fde0ba-710c-4dcb-ddd7-73906432bd1c"
      },
      "execution_count": 78,
      "outputs": [
        {
          "output_type": "stream",
          "name": "stdout",
          "text": [
            "{'name': 'Bob', 'city': 'New York'}\n"
          ]
        }
      ]
    },
    {
      "cell_type": "code",
      "source": [
        "#25 check if the key \"city\" exists in the dictionary {'name':'Alice', 'city':'paris'}\n",
        "d = {'name':'Alice', 'city':'paris'}\n",
        "print('city' in d)\n"
      ],
      "metadata": {
        "colab": {
          "base_uri": "https://localhost:8080/"
        },
        "id": "z7TYZ4H7Hz3O",
        "outputId": "961bee4d-79fa-4a78-bdb4-c0029b42e7d4"
      },
      "execution_count": 79,
      "outputs": [
        {
          "output_type": "stream",
          "name": "stdout",
          "text": [
            "True\n"
          ]
        }
      ]
    },
    {
      "cell_type": "code",
      "source": [
        "#26 create a list, a tuple and a dictionary and print them all\n",
        "t = (1,2,3)\n",
        "l = [1,2,3]\n",
        "d = {'name': 'pravesh'}\n",
        "print(t,l,d)"
      ],
      "metadata": {
        "colab": {
          "base_uri": "https://localhost:8080/"
        },
        "id": "v_vOeDc3IWIn",
        "outputId": "b2c6a96a-f950-4565-8e96-3874554a1085"
      },
      "execution_count": 54,
      "outputs": [
        {
          "output_type": "stream",
          "name": "stdout",
          "text": [
            "(1, 2, 3) [1, 2, 3] {'name': 'pravesh'}\n"
          ]
        }
      ]
    },
    {
      "cell_type": "code",
      "source": [
        "#27 create a list of 5 random numbers between 1 to 100, sort it in ascending order and print the result(replaced)\n",
        "l = [99,34,5,1,12]\n",
        "sorted(l)"
      ],
      "metadata": {
        "colab": {
          "base_uri": "https://localhost:8080/"
        },
        "id": "rRIIjOGRI18K",
        "outputId": "7fa7e853-fe35-4b12-8e0a-5568364d6a62"
      },
      "execution_count": 82,
      "outputs": [
        {
          "output_type": "execute_result",
          "data": {
            "text/plain": [
              "[1, 5, 12, 34, 99]"
            ]
          },
          "metadata": {},
          "execution_count": 82
        }
      ]
    },
    {
      "cell_type": "code",
      "source": [
        "#28 create a list with strings and print the element at the 3rd index\n",
        "l = [23,34,\"pravesh\"]\n",
        "print(l[2])"
      ],
      "metadata": {
        "colab": {
          "base_uri": "https://localhost:8080/"
        },
        "id": "nRJcaWX2Jjxa",
        "outputId": "d6abca1a-4a15-47b4-a112-b4a57d8f8402"
      },
      "execution_count": 58,
      "outputs": [
        {
          "output_type": "stream",
          "name": "stdout",
          "text": [
            "pravesh\n"
          ]
        }
      ]
    },
    {
      "cell_type": "code",
      "source": [
        "#29 combine two dictionaries into one and print the result\n",
        "d1 = {'name': 'pravesh'}\n",
        "d2 = {'age':'24'}\n",
        "d1.update(d2)\n",
        "print(d1)"
      ],
      "metadata": {
        "colab": {
          "base_uri": "https://localhost:8080/"
        },
        "id": "XYNnLkbpKOGd",
        "outputId": "0c0f4845-daff-4153-8d0b-04898bc75bc9"
      },
      "execution_count": 61,
      "outputs": [
        {
          "output_type": "stream",
          "name": "stdout",
          "text": [
            "{'name': 'pravesh', 'age': '24'}\n"
          ]
        }
      ]
    },
    {
      "cell_type": "code",
      "source": [
        "#30 convert a list into a set\n",
        "l = ['pravesh', 'age', '22', 'age'] # lists can contain duplicate elements\n",
        "print(set(l)) # while converting it into set , set doesn't allow dupliate elements."
      ],
      "metadata": {
        "colab": {
          "base_uri": "https://localhost:8080/"
        },
        "id": "M0nUie_JLHsr",
        "outputId": "9d8f425e-87eb-4e37-97f5-d135ce73c201"
      },
      "execution_count": 83,
      "outputs": [
        {
          "output_type": "stream",
          "name": "stdout",
          "text": [
            "{'pravesh', '22', 'age'}\n"
          ]
        }
      ]
    }
  ]
}